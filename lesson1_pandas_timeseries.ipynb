{
  "nbformat": 4,
  "nbformat_minor": 0,
  "metadata": {
    "colab": {
      "name": "lesson1_pandas_timeseries",
      "provenance": [],
      "collapsed_sections": [],
      "authorship_tag": "ABX9TyPdba7dnrKQ2CGQHuKfYH9m",
      "include_colab_link": true
    },
    "kernelspec": {
      "name": "python3",
      "display_name": "Python 3"
    }
  },
  "cells": [
    {
      "cell_type": "markdown",
      "metadata": {
        "id": "view-in-github",
        "colab_type": "text"
      },
      "source": [
        "<a href=\"https://colab.research.google.com/github/cdcmx2020a/group_a_twitter/blob/master/lesson1_pandas_timeseries.ipynb\" target=\"_parent\"><img src=\"https://colab.research.google.com/assets/colab-badge.svg\" alt=\"Open In Colab\"/></a>"
      ]
    },
    {
      "cell_type": "code",
      "metadata": {
        "id": "s7vsbwnh0AMQ",
        "colab_type": "code",
        "colab": {}
      },
      "source": [
        "# install two libraries that do not come with colab:\n",
        "!pip install pandas geopandas unidecode scipy sktime pmdarima"
      ],
      "execution_count": null,
      "outputs": []
    },
    {
      "cell_type": "code",
      "metadata": {
        "id": "WsEMt_DW0Xny",
        "colab_type": "code",
        "colab": {}
      },
      "source": [
        "# import (or make available) some libraries:\n",
        "\n",
        "# pandas and geopandas, to load and store data\n",
        "import pandas as pd \n",
        "import geopandas as gpd\n",
        "\n",
        "# pyplot, to visualize\n",
        "import matplotlib.pyplot as plt\n",
        "\n",
        "# numpy, for math and matrices\n",
        "import numpy as np\n",
        "\n",
        "# ARIMA, a basic time series forecasting model \n",
        "from sktime.forecasting.arima import AutoARIMA\n",
        "from sktime.forecasting.model_selection import temporal_train_test_split\n",
        "from sktime.utils.plotting.forecasting import plot_ys\n",
        "\n",
        "\n",
        "# similar to print(), but better formatting in notebooks\n",
        "from IPython.display import display\n",
        "\n",
        "# unidecode, to replace characters with accents \n",
        "from unidecode import unidecode \n",
        "\n",
        "# spline, for smoothing out spiky data\n",
        "from scipy.interpolate import make_interp_spline, BSpline\n"
      ],
      "execution_count": null,
      "outputs": []
    },
    {
      "cell_type": "markdown",
      "metadata": {
        "id": "5ZYiCGNZmslo",
        "colab_type": "text"
      },
      "source": [
        "## Loading and displaying time series data"
      ]
    },
    {
      "cell_type": "code",
      "metadata": {
        "id": "6RaLtAhr0ivh",
        "colab_type": "code",
        "colab": {}
      },
      "source": [
        "# pd.read_csv reads a CSV file and turns it into a *DataFrame*\n",
        "cases = pd.read_csv(\n",
        "    'https://raw.githubusercontent.com/cdcmx2020a/group_a_twitter/master/covid_data/cases_mexico_transformed.csv'\n",
        ")\n",
        "\n",
        "# head(5) returns the first 5 rows of a DataFrame\n",
        "display(cases.head(5))\n",
        "display(cases.tail(5))\n",
        "\n",
        "# nombre: municipality\n",
        "# date: days since 01-01-2020\n",
        "# cases: number of cases per day "
      ],
      "execution_count": null,
      "outputs": []
    },
    {
      "cell_type": "code",
      "metadata": {
        "id": "tFN8hF0_lfdc",
        "colab_type": "code",
        "colab": {}
      },
      "source": [
        "# look at just 'nombre' and 'cases' columns\n",
        "display(cases[['nombre', 'date', 'cases']].head(5))\n",
        "cases = cases[['nombre', 'date', 'cases']]\n",
        "# display(cases.head(5))"
      ],
      "execution_count": null,
      "outputs": []
    },
    {
      "cell_type": "code",
      "metadata": {
        "id": "jI_0epwMoZ8Q",
        "colab_type": "code",
        "colab": {}
      },
      "source": [
        "# characters with accents are hard to code with:\n",
        "display(cases.query('nombre == \"Magdalena Penasco\"'))\n",
        "print('--------')\n",
        "print('Magdalena Peñasco', 'turns into', unidecode('Magdalena Peñasco'))\n",
        "print('--------')\n",
        "cases['nombre'] = cases['nombre'].apply(unidecode)\n",
        "# display(cases.query('nombre == \"Magdalena Penasco\"'))"
      ],
      "execution_count": null,
      "outputs": []
    },
    {
      "cell_type": "code",
      "metadata": {
        "id": "FXzLkHv1lk_L",
        "colab_type": "code",
        "colab": {}
      },
      "source": [
        "# calculate the total number of cases in each municipality\n",
        "cases_total_muni = (cases[['nombre', 'cases']]           # select nombre and cases columns\n",
        "                    .groupby('nombre', as_index=False)   # group rows by nombre\n",
        "                    .sum())                              # add rows within a group\n",
        "display(cases_total_muni.head(5))\n",
        "\n",
        "# Q: how do we calculate total number of cases each day?\n",
        "# cases_total_date = ?"
      ],
      "execution_count": null,
      "outputs": []
    },
    {
      "cell_type": "code",
      "metadata": {
        "id": "3y4bm4OikGxc",
        "colab_type": "code",
        "colab": {}
      },
      "source": [
        "def split_by_municipality(cases):\n",
        "    # returns a DataFrame with a separate column for each muncipality\n",
        "    cases_split = (cases[['nombre', 'date', 'cases']]\n",
        "                   .groupby(['nombre', 'date'], as_index=False)['cases'].sum()\n",
        "                   .pivot(index='date', columns='nombre', values='cases')\n",
        "                   .fillna(0)\n",
        "                   .sort_index())\n",
        "    return cases_split \n",
        "\n",
        "cases_split = split_by_municipality(cases)\n",
        "# Q: how do we look at cases_split?"
      ],
      "execution_count": null,
      "outputs": []
    },
    {
      "cell_type": "markdown",
      "metadata": {
        "id": "5vulmj4jnMFg",
        "colab_type": "text"
      },
      "source": [
        "## Visualizing time series"
      ]
    },
    {
      "cell_type": "code",
      "metadata": {
        "id": "E63bKuQzTIcg",
        "colab_type": "code",
        "colab": {}
      },
      "source": [
        "# Q: write comments (guess if you don't know) for each line of this function:\n",
        "def plot_muni(cases_split, muni):\n",
        "    muni_cases = cases_split[muni]\n",
        "    dates = cases_split.index \n",
        "    plt.plot(\n",
        "        dates,\n",
        "        muni_cases,\n",
        "        label=muni\n",
        "    )\n",
        "\n",
        "\n",
        "plot_muni(cases_split, 'Jalapa')\n",
        "plot_muni(cases_split, 'Nicolas Romero')\n",
        "plt.xlabel('Days since 01-01-2020')\n",
        "plt.ylabel('Cases per day')\n",
        "plt.legend()\n",
        "plt.show()"
      ],
      "execution_count": null,
      "outputs": []
    },
    {
      "cell_type": "code",
      "metadata": {
        "colab_type": "code",
        "id": "hUQ4Kp3Up25q",
        "colab": {}
      },
      "source": [
        "# Documentation: https://matplotlib.org/3.3.0/api/_as_gen/matplotlib.pyplot.scatter.html\n",
        "# Challenge: make the plot look different! \n",
        "def plot_muni_new(cases_split, muni):\n",
        "    muni_cases = cases_split[muni]\n",
        "    dates = cases_split.index \n",
        "    plt.plot(\n",
        "        dates,\n",
        "        muni_cases,\n",
        "        label=muni,\n",
        "        linestyle=':'\n",
        "    )\n",
        "\n",
        "plot_muni_new(cases_split, 'Jalapa')\n",
        "plot_muni_new(cases_split, 'Nicolas Romero')\n",
        "plt.xlabel('Days since 01-01-2020')\n",
        "plt.ylabel('Cases per day')\n",
        "plt.legend()\n",
        "plt.show()"
      ],
      "execution_count": null,
      "outputs": []
    },
    {
      "cell_type": "code",
      "metadata": {
        "colab_type": "code",
        "id": "sCzExv04CMgu",
        "colab": {}
      },
      "source": [
        "# Documentation: https://matplotlib.org/3.3.0/api/_as_gen/matplotlib.pyplot.scatter.html\n",
        "# Challenge: make the plot look different! \n",
        "def plot_muni_new(cases_split, muni):\n",
        "    muni_cases = cases_split[muni]\n",
        "    dates = cases_split.index \n",
        "    plt.plot(\n",
        "        dates,\n",
        "        muni_cases / muni_cases.mean(),\n",
        "        label=muni,\n",
        "    )\n",
        "\n",
        "plot_muni_new(cases_split, 'Jalapa')\n",
        "plot_muni_new(cases_split, 'Nicolas Romero')\n",
        "plt.xlabel('Days since 01-01-2020')\n",
        "plt.ylabel('Cases per day (relative)')\n",
        "plt.legend()\n",
        "plt.show()"
      ],
      "execution_count": null,
      "outputs": []
    },
    {
      "cell_type": "markdown",
      "metadata": {
        "id": "TBJ1VgD9uKbP",
        "colab_type": "text"
      },
      "source": [
        "## What's the point?"
      ]
    },
    {
      "cell_type": "code",
      "metadata": {
        "id": "aGcXzBpIuJuF",
        "colab_type": "code",
        "colab": {}
      },
      "source": [
        "# Q: What kind of questions can we answer using this data?"
      ],
      "execution_count": null,
      "outputs": []
    },
    {
      "cell_type": "code",
      "metadata": {
        "id": "MJQUbcf37BQv",
        "colab_type": "code",
        "colab": {}
      },
      "source": [
        "cases_split_drop = cases_split.query('date > 75')\n",
        "[plot_muni(cases_split_drop, c) for c in \n",
        " ['Xalapa', 'San Pablo Villa de Mitla', 'Huimanguillo',\n",
        "  'El Mante', 'Mayapan', 'Ocotlan', 'Jose Azueta']]\n",
        "\n",
        "plt.legend()\n",
        "plt.show()"
      ],
      "execution_count": null,
      "outputs": []
    },
    {
      "cell_type": "code",
      "metadata": {
        "id": "WKTvvLQr8mYQ",
        "colab_type": "code",
        "colab": {}
      },
      "source": [
        "y_train, y_test = temporal_train_test_split(cases_split_drop['Xalapa'], test_size=21)\n",
        "forecaster = AutoARIMA(sp=7, suppress_warnings=True)\n",
        "forecaster.fit(y_train)\n",
        "x_test = np.arange(len(y_test)) + 1\n",
        "y_pred = forecaster.predict(x_test)\n",
        "plot_ys(y_train, y_test, y_pred, labels=[\"Train\", \"Test\", 'Prediction'])\n",
        "plt.show()\n",
        "\n",
        "# Q: What problems in the data make this difficult?"
      ],
      "execution_count": null,
      "outputs": []
    },
    {
      "cell_type": "code",
      "metadata": {
        "id": "98js2B4h_cfR",
        "colab_type": "code",
        "colab": {}
      },
      "source": [
        "smoothened = cases_split_drop['Xalapa'].rolling(window=7).mean()[6:]\n",
        "y_train, y_test = temporal_train_test_split(smoothened, test_size=28)\n",
        "forecaster = AutoARIMA(sp=7, suppress_warnings=True)\n",
        "forecaster.fit(y_train)\n",
        "x_test = np.arange(len(y_test)) + 1\n",
        "y_pred = forecaster.predict(x_test)\n",
        "plot_ys(y_train, y_test, y_pred, labels=[\"Train\", \"Test\", 'Prediction'])\n",
        "plt.show()"
      ],
      "execution_count": null,
      "outputs": []
    },
    {
      "cell_type": "markdown",
      "metadata": {
        "id": "H32KmL6JqONg",
        "colab_type": "text"
      },
      "source": [
        "## Homework\n",
        "\n",
        "The first day's homework is about three things:\n",
        "\n",
        "\n",
        "1.   Reading documentation and learning `pandas` and `matplotlib`\n",
        "2.   Playing with the time series data\n",
        "3.   Making some interesting visualizations!\n",
        "\n",
        "Go through these tutorials: [10 minutes to pandas](https://pandas.pydata.org/pandas-docs/stable/user_guide/10min.html) and [PyPlot](https://matplotlib.org/tutorials/introductory/pyplot.html). Do the examples and see what happens.\n",
        "\n",
        "Based on these examples (or anything else you find!), come up with *one* new visualization of the COVID-19 case rate data. You are welcome to use any other libraries, methods, or even other data you can find. \n",
        "\n",
        "On Monday, you will show us your visualization and explain it in 30-60s. We'll vote on our favorite!\n",
        "\n",
        "My entry for the contest:\n",
        "\n",
        "![image.png](data:image/png;base64,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)\n",
        "\n"
      ]
    },
    {
      "cell_type": "code",
      "metadata": {
        "id": "5YB3OciAqNhf",
        "colab_type": "code",
        "colab": {}
      },
      "source": [
        ""
      ],
      "execution_count": null,
      "outputs": []
    }
  ]
}