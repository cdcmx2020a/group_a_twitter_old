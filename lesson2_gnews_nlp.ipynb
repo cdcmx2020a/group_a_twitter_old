{
  "nbformat": 4,
  "nbformat_minor": 0,
  "metadata": {
    "colab": {
      "name": "lesson2_gnews_nlp",
      "provenance": [],
      "collapsed_sections": [],
      "authorship_tag": "ABX9TyPcXh66CaHgMoGqW6GUPUb+",
      "include_colab_link": true
    },
    "kernelspec": {
      "name": "python3",
      "display_name": "Python 3"
    },
    "widgets": {
      "application/vnd.jupyter.widget-state+json": {
        "5a45b577e21a48b9956804d4163cb0c4": {
          "model_module": "@jupyter-widgets/controls",
          "model_name": "HBoxModel",
          "state": {
            "_view_name": "HBoxView",
            "_dom_classes": [],
            "_model_name": "HBoxModel",
            "_view_module": "@jupyter-widgets/controls",
            "_model_module_version": "1.5.0",
            "_view_count": null,
            "_view_module_version": "1.5.0",
            "box_style": "",
            "layout": "IPY_MODEL_6601ddb499fa4098ae980d6878560f38",
            "_model_module": "@jupyter-widgets/controls",
            "children": [
              "IPY_MODEL_2b1233626a8c4c7bb704b86105f5fb24",
              "IPY_MODEL_9ec7cc7edf2244a99f47dab71286f3a7"
            ]
          }
        },
        "6601ddb499fa4098ae980d6878560f38": {
          "model_module": "@jupyter-widgets/base",
          "model_name": "LayoutModel",
          "state": {
            "_view_name": "LayoutView",
            "grid_template_rows": null,
            "right": null,
            "justify_content": null,
            "_view_module": "@jupyter-widgets/base",
            "overflow": null,
            "_model_module_version": "1.2.0",
            "_view_count": null,
            "flex_flow": null,
            "width": null,
            "min_width": null,
            "border": null,
            "align_items": null,
            "bottom": null,
            "_model_module": "@jupyter-widgets/base",
            "top": null,
            "grid_column": null,
            "overflow_y": null,
            "overflow_x": null,
            "grid_auto_flow": null,
            "grid_area": null,
            "grid_template_columns": null,
            "flex": null,
            "_model_name": "LayoutModel",
            "justify_items": null,
            "grid_row": null,
            "max_height": null,
            "align_content": null,
            "visibility": null,
            "align_self": null,
            "height": null,
            "min_height": null,
            "padding": null,
            "grid_auto_rows": null,
            "grid_gap": null,
            "max_width": null,
            "order": null,
            "_view_module_version": "1.2.0",
            "grid_template_areas": null,
            "object_position": null,
            "object_fit": null,
            "grid_auto_columns": null,
            "margin": null,
            "display": null,
            "left": null
          }
        },
        "2b1233626a8c4c7bb704b86105f5fb24": {
          "model_module": "@jupyter-widgets/controls",
          "model_name": "FloatProgressModel",
          "state": {
            "_view_name": "ProgressView",
            "style": "IPY_MODEL_8e2e4c5cefd949e381112cf0b41c12eb",
            "_dom_classes": [],
            "description": "100%",
            "_model_name": "FloatProgressModel",
            "bar_style": "success",
            "max": 221,
            "_view_module": "@jupyter-widgets/controls",
            "_model_module_version": "1.5.0",
            "value": 221,
            "_view_count": null,
            "_view_module_version": "1.5.0",
            "orientation": "horizontal",
            "min": 0,
            "description_tooltip": null,
            "_model_module": "@jupyter-widgets/controls",
            "layout": "IPY_MODEL_dd221a50d52a456cb9480c6a56d7f68a"
          }
        },
        "9ec7cc7edf2244a99f47dab71286f3a7": {
          "model_module": "@jupyter-widgets/controls",
          "model_name": "HTMLModel",
          "state": {
            "_view_name": "HTMLView",
            "style": "IPY_MODEL_29a12b301e5e489d8b85d02494ce2f34",
            "_dom_classes": [],
            "description": "",
            "_model_name": "HTMLModel",
            "placeholder": "​",
            "_view_module": "@jupyter-widgets/controls",
            "_model_module_version": "1.5.0",
            "value": " 221/221 [28:36&lt;00:00,  7.77s/it]",
            "_view_count": null,
            "_view_module_version": "1.5.0",
            "description_tooltip": null,
            "_model_module": "@jupyter-widgets/controls",
            "layout": "IPY_MODEL_c8dcba5e75f7484b8b55fb0f9f8f9a32"
          }
        },
        "8e2e4c5cefd949e381112cf0b41c12eb": {
          "model_module": "@jupyter-widgets/controls",
          "model_name": "ProgressStyleModel",
          "state": {
            "_view_name": "StyleView",
            "_model_name": "ProgressStyleModel",
            "description_width": "initial",
            "_view_module": "@jupyter-widgets/base",
            "_model_module_version": "1.5.0",
            "_view_count": null,
            "_view_module_version": "1.2.0",
            "bar_color": null,
            "_model_module": "@jupyter-widgets/controls"
          }
        },
        "dd221a50d52a456cb9480c6a56d7f68a": {
          "model_module": "@jupyter-widgets/base",
          "model_name": "LayoutModel",
          "state": {
            "_view_name": "LayoutView",
            "grid_template_rows": null,
            "right": null,
            "justify_content": null,
            "_view_module": "@jupyter-widgets/base",
            "overflow": null,
            "_model_module_version": "1.2.0",
            "_view_count": null,
            "flex_flow": null,
            "width": null,
            "min_width": null,
            "border": null,
            "align_items": null,
            "bottom": null,
            "_model_module": "@jupyter-widgets/base",
            "top": null,
            "grid_column": null,
            "overflow_y": null,
            "overflow_x": null,
            "grid_auto_flow": null,
            "grid_area": null,
            "grid_template_columns": null,
            "flex": null,
            "_model_name": "LayoutModel",
            "justify_items": null,
            "grid_row": null,
            "max_height": null,
            "align_content": null,
            "visibility": null,
            "align_self": null,
            "height": null,
            "min_height": null,
            "padding": null,
            "grid_auto_rows": null,
            "grid_gap": null,
            "max_width": null,
            "order": null,
            "_view_module_version": "1.2.0",
            "grid_template_areas": null,
            "object_position": null,
            "object_fit": null,
            "grid_auto_columns": null,
            "margin": null,
            "display": null,
            "left": null
          }
        },
        "29a12b301e5e489d8b85d02494ce2f34": {
          "model_module": "@jupyter-widgets/controls",
          "model_name": "DescriptionStyleModel",
          "state": {
            "_view_name": "StyleView",
            "_model_name": "DescriptionStyleModel",
            "description_width": "",
            "_view_module": "@jupyter-widgets/base",
            "_model_module_version": "1.5.0",
            "_view_count": null,
            "_view_module_version": "1.2.0",
            "_model_module": "@jupyter-widgets/controls"
          }
        },
        "c8dcba5e75f7484b8b55fb0f9f8f9a32": {
          "model_module": "@jupyter-widgets/base",
          "model_name": "LayoutModel",
          "state": {
            "_view_name": "LayoutView",
            "grid_template_rows": null,
            "right": null,
            "justify_content": null,
            "_view_module": "@jupyter-widgets/base",
            "overflow": null,
            "_model_module_version": "1.2.0",
            "_view_count": null,
            "flex_flow": null,
            "width": null,
            "min_width": null,
            "border": null,
            "align_items": null,
            "bottom": null,
            "_model_module": "@jupyter-widgets/base",
            "top": null,
            "grid_column": null,
            "overflow_y": null,
            "overflow_x": null,
            "grid_auto_flow": null,
            "grid_area": null,
            "grid_template_columns": null,
            "flex": null,
            "_model_name": "LayoutModel",
            "justify_items": null,
            "grid_row": null,
            "max_height": null,
            "align_content": null,
            "visibility": null,
            "align_self": null,
            "height": null,
            "min_height": null,
            "padding": null,
            "grid_auto_rows": null,
            "grid_gap": null,
            "max_width": null,
            "order": null,
            "_view_module_version": "1.2.0",
            "grid_template_areas": null,
            "object_position": null,
            "object_fit": null,
            "grid_auto_columns": null,
            "margin": null,
            "display": null,
            "left": null
          }
        }
      }
    }
  },
  "cells": [
    {
      "cell_type": "markdown",
      "metadata": {
        "id": "view-in-github",
        "colab_type": "text"
      },
      "source": [
        "<a href=\"https://colab.research.google.com/github/cdcmx2020a/group_a_twitter/blob/master/lesson2_gnews_nlp.ipynb\" target=\"_parent\"><img src=\"https://colab.research.google.com/assets/colab-badge.svg\" alt=\"Open In Colab\"/></a>"
      ]
    },
    {
      "cell_type": "code",
      "metadata": {
        "id": "s7vsbwnh0AMQ",
        "colab_type": "code",
        "colab": {
          "base_uri": "https://localhost:8080/",
          "height": 343
        },
        "outputId": "393380c1-a4c4-4a6f-dcff-48abcb31874f"
      },
      "source": [
        "!pip install pandas unidecode wordcloud sklearn nltk tqdm"
      ],
      "execution_count": 1,
      "outputs": [
        {
          "output_type": "stream",
          "text": [
            "Requirement already satisfied: pandas in /usr/local/lib/python3.6/dist-packages (1.0.5)\n",
            "Collecting unidecode\n",
            "\u001b[?25l  Downloading https://files.pythonhosted.org/packages/d0/42/d9edfed04228bacea2d824904cae367ee9efd05e6cce7ceaaedd0b0ad964/Unidecode-1.1.1-py2.py3-none-any.whl (238kB)\n",
            "\u001b[K     |████████████████████████████████| 245kB 3.4MB/s \n",
            "\u001b[?25hRequirement already satisfied: wordcloud in /usr/local/lib/python3.6/dist-packages (1.5.0)\n",
            "Requirement already satisfied: sklearn in /usr/local/lib/python3.6/dist-packages (0.0)\n",
            "Requirement already satisfied: nltk in /usr/local/lib/python3.6/dist-packages (3.2.5)\n",
            "Requirement already satisfied: tqdm in /usr/local/lib/python3.6/dist-packages (4.41.1)\n",
            "Requirement already satisfied: numpy>=1.13.3 in /usr/local/lib/python3.6/dist-packages (from pandas) (1.18.5)\n",
            "Requirement already satisfied: pytz>=2017.2 in /usr/local/lib/python3.6/dist-packages (from pandas) (2018.9)\n",
            "Requirement already satisfied: python-dateutil>=2.6.1 in /usr/local/lib/python3.6/dist-packages (from pandas) (2.8.1)\n",
            "Requirement already satisfied: pillow in /usr/local/lib/python3.6/dist-packages (from wordcloud) (7.0.0)\n",
            "Requirement already satisfied: scikit-learn in /usr/local/lib/python3.6/dist-packages (from sklearn) (0.22.2.post1)\n",
            "Requirement already satisfied: six in /usr/local/lib/python3.6/dist-packages (from nltk) (1.15.0)\n",
            "Requirement already satisfied: joblib>=0.11 in /usr/local/lib/python3.6/dist-packages (from scikit-learn->sklearn) (0.16.0)\n",
            "Requirement already satisfied: scipy>=0.17.0 in /usr/local/lib/python3.6/dist-packages (from scikit-learn->sklearn) (1.4.1)\n",
            "Installing collected packages: unidecode\n",
            "Successfully installed unidecode-1.1.1\n"
          ],
          "name": "stdout"
        }
      ]
    },
    {
      "cell_type": "code",
      "metadata": {
        "id": "WsEMt_DW0Xny",
        "colab_type": "code",
        "colab": {}
      },
      "source": [
        "import pandas as pd \n",
        "import numpy as np\n",
        "import matplotlib.pyplot as plt\n",
        "from IPython.display import display\n",
        "\n",
        "# progress bars \n",
        "from tqdm.notebook import tqdm\n",
        "\n",
        "# text manipulation\n",
        "from unidecode import unidecode\n",
        "import re\n",
        "\n",
        "# visualization\n",
        "from wordcloud import WordCloud\n",
        "\n",
        "# topic modeling, etc\n",
        "from sklearn.feature_extraction.text import TfidfVectorizer, CountVectorizer\n",
        "from sklearn.decomposition import NMF\n",
        "from sklearn.neural_network import MLPRegressor\n",
        "from sklearn.linear_model import LinearRegression\n",
        "from sklearn.metrics import r2_score"
      ],
      "execution_count": 82,
      "outputs": []
    },
    {
      "cell_type": "code",
      "metadata": {
        "id": "6RaLtAhr0ivh",
        "colab_type": "code",
        "colab": {}
      },
      "source": [
        "def get_cases_df():\n",
        "    df = pd.read_csv(\n",
        "        'https://raw.githubusercontent.com/cdcmx2020a/group_a_twitter/master/covid_data/cases_mexico_transformed.csv'\n",
        "    )\n",
        "    df = df[['date', 'cases']].groupby('date', as_index=False)['cases'].sum()\n",
        "    return df \n",
        "\n",
        "\n",
        "def get_news_df(lang):\n",
        "    #lang options are 'en' or 'es'\n",
        "    def _xform_text(x):\n",
        "        if x != x:\n",
        "            return ''\n",
        "        else:\n",
        "            return unidecode(str(x).strip('\"'))\n",
        "    manifest = pd.read_csv(\n",
        "        f'https://raw.githubusercontent.com/cdcmx2020a/group_a_twitter/master/gnews_raw_{lang}/manifest.txt',\n",
        "        header=None,\n",
        "        names=['jsons'])['jsons'].tolist()\n",
        "    dfs = []\n",
        "    for f in tqdm(manifest):\n",
        "        if 'manifest' in f:\n",
        "            continue\n",
        "        try:\n",
        "            df = pd.read_csv(f'https://github.com/cdcmx2020a/group_a_twitter/blob/master/gnews_raw_{lang}/{f}?raw=true', names=['full_text'])\n",
        "        except:\n",
        "            continue \n",
        "        date = int(f.split('.')[0])\n",
        "        df['date'] = date * np.ones(df.shape[0], dtype=int)\n",
        "        df['full_text'] = df['full_text'].apply(_xform_text)\n",
        "        dfs.append(df)\n",
        "    df = pd.concat(dfs, axis=0) \n",
        "    return df \n",
        "\n",
        "\n",
        "def get_twitter_df():\n",
        "    manifest = pd.read_csv(\n",
        "        'https://raw.githubusercontent.com/cdcmx2020a/group_a_twitter/master/processed_json/manifest.txt',\n",
        "        header=None,\n",
        "        names=['jsons'])['jsons'].tolist()\n",
        "    df = pd.concat(\n",
        "        [pd.read_json(f'https://github.com/cdcmx2020a/group_a_twitter/blob/master/processed_json/{f}?raw=true', lines=True) \n",
        "            for f in tqdm(manifest)],\n",
        "        axis=0\n",
        "    )\n",
        "    # df = df.query('date > 60')\n",
        "    return df \n",
        "\n",
        "\n",
        "def reweight_twitter(df):\n",
        "    n_days = {\n",
        "        1: 31, 2: 29, 3: 31, 4: 30, 5: 31, 6: 30, 7:31\n",
        "    }\n",
        "    n_tweets = {\n",
        "        1: 1.2e7, 2: 3.2e7, 3:4.0e7, 4: 3.1e7, 5: 3.2e7,\n",
        "        6: 1.12e8, 7: 7.1e7 \n",
        "    }\n",
        "    month_weights = {'date':[], 'weight': [], 'ones': []}\n",
        "    last = -1\n",
        "    for m,days in tqdm(list(n_days.items())):\n",
        "        start = last + 1 \n",
        "        end = last + days \n",
        "        # print(m, start, end)\n",
        "        last = end \n",
        "        n_recorded = df.query(f'date>={start} & date<={end}').shape[0]\n",
        "        if n_recorded == 0:\n",
        "            weight = 1\n",
        "        else:\n",
        "            weight = n_tweets[m] / n_recorded \n",
        "            # weight = int(1e6) / n_recorded\n",
        "        month_weights['date'] += list(range(start, end+1))\n",
        "        month_weights['weight'] += [weight] * days \n",
        "        month_weights['ones'] += [1] * days \n",
        "    \n",
        "    df_weights = pd.DataFrame(month_weights)\n",
        "    \n",
        "    if 'weight' in df.columns:\n",
        "        df = df.drop(columns=['weight', 'ones'])\n",
        "    df_weighted = df.merge(df_weights, on='date', how='inner').sort_values(by='date')\n",
        "\n",
        "    df_weighted = df_weighted.drop_duplicates(['full_text', 'date'], keep='first')\n",
        "\n",
        "    return df_weighted\n",
        "\n",
        "\n",
        "def get_stopword_list(lang):\n",
        "    # lang options are 'english' or 'spanish'\n",
        "    df = pd.read_csv(f'https://raw.githubusercontent.com/Alir3z4/stop-words/master/{lang}.txt', names='a')\n",
        "    return df['a'].tolist()"
      ],
      "execution_count": 49,
      "outputs": []
    },
    {
      "cell_type": "code",
      "metadata": {
        "id": "T89Gsiw1PPBm",
        "colab_type": "code",
        "colab": {
          "base_uri": "https://localhost:8080/",
          "height": 253,
          "referenced_widgets": [
            "5a45b577e21a48b9956804d4163cb0c4",
            "6601ddb499fa4098ae980d6878560f38",
            "2b1233626a8c4c7bb704b86105f5fb24",
            "9ec7cc7edf2244a99f47dab71286f3a7",
            "8e2e4c5cefd949e381112cf0b41c12eb",
            "dd221a50d52a456cb9480c6a56d7f68a",
            "29a12b301e5e489d8b85d02494ce2f34",
            "c8dcba5e75f7484b8b55fb0f9f8f9a32"
          ]
        },
        "outputId": "ca2bff40-b3a9-4a5c-be4e-8faba0f8f0b8"
      },
      "source": [
        "# load two dataframes: cases per day in and Google News articles \n",
        "# keywords: 'covid', 'coronavirus', 'pandemia', 'cubrebocas', 'tapabocas', \n",
        "#           'cuarentena', 'distanciamiento social', 'quédate en casa',\n",
        "#           'sars cov-2\n",
        "cases = get_cases_df()\n",
        "news = get_news_df(lang='en')\n",
        "display(news['full_text'].head(5).tolist())"
      ],
      "execution_count": 50,
      "outputs": [
        {
          "output_type": "display_data",
          "data": {
            "application/vnd.jupyter.widget-view+json": {
              "model_id": "5a45b577e21a48b9956804d4163cb0c4",
              "version_minor": 0,
              "version_major": 2
            },
            "text/plain": [
              "HBox(children=(FloatProgress(value=0.0, max=221.0), HTML(value='')))"
            ]
          },
          "metadata": {
            "tags": []
          }
        },
        {
          "output_type": "stream",
          "text": [
            "\n"
          ],
          "name": "stdout"
        },
        {
          "output_type": "display_data",
          "data": {
            "text/html": [
              "<div>\n",
              "<style scoped>\n",
              "    .dataframe tbody tr th:only-of-type {\n",
              "        vertical-align: middle;\n",
              "    }\n",
              "\n",
              "    .dataframe tbody tr th {\n",
              "        vertical-align: top;\n",
              "    }\n",
              "\n",
              "    .dataframe thead th {\n",
              "        text-align: right;\n",
              "    }\n",
              "</style>\n",
              "<table border=\"1\" class=\"dataframe\">\n",
              "  <thead>\n",
              "    <tr style=\"text-align: right;\">\n",
              "      <th></th>\n",
              "      <th>full_text</th>\n",
              "      <th>date</th>\n",
              "    </tr>\n",
              "  </thead>\n",
              "  <tbody>\n",
              "    <tr>\n",
              "      <th>0</th>\n",
              "      <td>How patients can start--and stick with--key li...</td>\n",
              "      <td>0</td>\n",
              "    </tr>\n",
              "    <tr>\n",
              "      <th>1</th>\n",
              "      <td>Fire destroys house near downtown Raleigh; fir...</td>\n",
              "      <td>0</td>\n",
              "    </tr>\n",
              "    <tr>\n",
              "      <th>2</th>\n",
              "      <td>Watch Now: Governor Tony Evers updates Wiscons...</td>\n",
              "      <td>0</td>\n",
              "    </tr>\n",
              "    <tr>\n",
              "      <th>3</th>\n",
              "      <td>Column One: My New Year's resolution to be mor...</td>\n",
              "      <td>0</td>\n",
              "    </tr>\n",
              "    <tr>\n",
              "      <th>4</th>\n",
              "      <td>Beauty Bar: Dior Capture Totale DreamSkin 1-Mi...</td>\n",
              "      <td>0</td>\n",
              "    </tr>\n",
              "  </tbody>\n",
              "</table>\n",
              "</div>"
            ],
            "text/plain": [
              "                                           full_text  date\n",
              "0  How patients can start--and stick with--key li...     0\n",
              "1  Fire destroys house near downtown Raleigh; fir...     0\n",
              "2  Watch Now: Governor Tony Evers updates Wiscons...     0\n",
              "3  Column One: My New Year's resolution to be mor...     0\n",
              "4  Beauty Bar: Dior Capture Totale DreamSkin 1-Mi...     0"
            ]
          },
          "metadata": {
            "tags": []
          }
        }
      ]
    },
    {
      "cell_type": "code",
      "metadata": {
        "id": "RLRVirFItPfJ",
        "colab_type": "code",
        "colab": {}
      },
      "source": [
        "def remove_after_hyphen(txt):\n",
        "    return txt.split(' - ')[0]\n",
        "    # more robust solution using regular expressions:\n",
        "    # return re.sub(r' - .*', '', txt)\n",
        "news['full_text_no_hyphen'] = news['full_text'].apply(remove_after_hyphen)"
      ],
      "execution_count": 61,
      "outputs": []
    },
    {
      "cell_type": "markdown",
      "metadata": {
        "id": "gdiTNUEDQcyq",
        "colab_type": "text"
      },
      "source": [
        "## Topic Modeling"
      ]
    },
    {
      "cell_type": "code",
      "metadata": {
        "id": "VZlNkga7VEae",
        "colab_type": "code",
        "colab": {
          "base_uri": "https://localhost:8080/",
          "height": 280
        },
        "outputId": "ef2390b3-dcf4-4f99-8dff-75709159b69b"
      },
      "source": [
        "# count number of times a word appears in a headline over time\n",
        "\n",
        "def count_word(df, word=None):\n",
        "    if word is None:\n",
        "        count = np.ones(df.shape[0], dtype=float)\n",
        "    else:\n",
        "        # count number of times word appears in each tweet \n",
        "        count = df['full_text'].apply(lambda x: x.lower().count(word))\n",
        "    tmp_df = pd.DataFrame({\n",
        "        'date': df['date'],\n",
        "        'count': count\n",
        "    })\n",
        "    tmp_df = tmp_df.groupby('date', as_index=False)['count'].sum().sort_values(by='date')\n",
        "    return tmp_df\n",
        "\n",
        "total = count_word(news)\n",
        "count_coronavirus = count_word(news, 'coronavirus')\n",
        "count_covid = count_word(news, 'covid')\n",
        "\n",
        "plt.plot(total['date'], total['count'], label='total')\n",
        "plt.plot(count_coronavirus['date'], count_coronavirus['count'], label='coronavirus')\n",
        "plt.plot(count_covid['date'], count_covid['count'], label='covid')\n",
        "plt.legend()\n",
        "plt.xlabel('Date')\n",
        "plt.ylabel('Count')\n",
        "plt.show()"
      ],
      "execution_count": 51,
      "outputs": [
        {
          "output_type": "display_data",
          "data": {
            "image/png": "[encoded data removed]",
            "text/plain": [
              "<Figure size 432x288 with 1 Axes>"
            ]
          },
          "metadata": {
            "tags": [],
            "needs_background": "light"
          }
        }
      ]
    },
    {
      "cell_type": "markdown",
      "metadata": {
        "id": "njbxSM1Ejq5q",
        "colab_type": "text"
      },
      "source": [
        "## Non-negative Matrix Factorization\n",
        "\n",
        "Let's say we have a vocabulary of words $V$. Each document (headline, article, tweet, etc) can be represented by the number of times the word shows up.\n",
        "\n",
        "For example, if my vocabulary is: \n",
        "\n",
        "`[I, really, like, coffee, tea]` \n",
        "\n",
        "then the sentence \"I really really like coffee\" is represented by \n",
        "\n",
        "`[1, 2, 1, 1, 0]`\n",
        "\n",
        "We can represent a corpus of documents as a giant matrix $A$ of size $m\\times n$. where $m$ is the number of documents and $n=|V|$. This matrix is very large and sparse (many zeros) because most words occur rarely. \n",
        "\n",
        "Non-negative matrix factorization: split $A$ into two smaller matrices $W$ and $H$ with parameter $k \\ll n$:\n",
        "![image.png](data:image/png;base64,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)\n",
        "\n",
        "$k$ is the number of topics. $H$ defines the topics. Specifically, $H_{ij}$ is a number ($\\geq 0$) that tells us how much word $i$ matters to topic $j$. \n",
        "\n",
        "Similarly, $W_{ij}$ tells us how much topic $j$ matters to document $i$. These numbers must all be positive, which is why we use *non-negative* factorization.\n",
        "\n"
      ]
    },
    {
      "cell_type": "code",
      "metadata": {
        "id": "1tA7s0QCQhzU",
        "colab_type": "code",
        "colab": {}
      },
      "source": [
        "class Config(dict):\n",
        "    '''\n",
        "    Just a helper class to define configuration of topic modeling tasks\n",
        "    '''\n",
        "    def __init__(self, *args, **kwargs):\n",
        "        super().__init__(self, *args, **kwargs)\n",
        "        for k,v in self.items():\n",
        "            setattr(self, k, v)\n",
        "\n",
        "\n",
        "def build_topic_model(data, feature_extractor, nmf):\n",
        "    # data: list (or column) of N documents\n",
        "    # feature_extractor: CountVectorizer, TfIdfVectorizer, etc\n",
        "    # nmf: NMF\n",
        "    # returns top 20 words for each topic; embedding documents by topic\n",
        "\n",
        "    # get feature representation of each sample. \n",
        "    # see https://scikit-learn.org/stable/modules/classes.html#module-sklearn.feature_extraction.text \n",
        "    # for documentation. doc_features is a matrix of size (N, vocab_size)\n",
        "    doc_features = feature_extractor.fit_transform(data)\n",
        "\n",
        "    # fit the NMF model to the features. docs_by_topic is a matrix of size (N, ???)\n",
        "    docs_by_topic = nmf.fit_transform(doc_features)\n",
        "\n",
        "    # get a mapping of feature index -> vocabulary term. then use it to get the terms\n",
        "    # that correspond to each topic \n",
        "    feature_names = feature_extractor.get_feature_names()\n",
        "    topics = []\n",
        "    for idx, topic in enumerate(nmf.components_):\n",
        "        topics.append(\n",
        "            [feature_names[i] for i in topic.argsort()[:-11:-1]]\n",
        "        )\n",
        "    return topics, docs_by_topic"
      ],
      "execution_count": 45,
      "outputs": []
    },
    {
      "cell_type": "code",
      "metadata": {
        "id": "jtElJSivij01",
        "colab_type": "code",
        "colab": {
          "base_uri": "https://localhost:8080/",
          "height": 357
        },
        "outputId": "b8d23d29-2510-4bde-f01f-91c3416452ef"
      },
      "source": [
        "nmf = NMF(n_components=20)\n",
        "cv = CountVectorizer()\n",
        "#cv = CountVectorizer(stop_words=get_stopword_list(lang='english'))\n",
        "topics, docs_by_topic = build_topic_model(news['full_text_no_hyphen'], cv, nmf)\n",
        "display(['; '.join(t) for t in topics])"
      ],
      "execution_count": 88,
      "outputs": [
        {
          "output_type": "display_data",
          "data": {
            "text/plain": [
              "['the; are; how; world; has; will; us; from; best; that',\n",
              " 'covid; 19; update; health; testing; patients; from; cases; vaccine; test',\n",
              " 'to; how; be; wear; due; it; need; get; help; your',\n",
              " 'in; cases; county; china; public; us; place; study; first; time',\n",
              " 'social; distancing; rules; while; at; measures; guidelines; will; not; during',\n",
              " 'at; home; stay; order; orders; during; county; gov; may; after',\n",
              " 'coronavirus; updates; outbreak; china; from; us; says; cases; update; live',\n",
              " 'of; sars; cov; out; spread; study; state; health; risk; number',\n",
              " 'for; positive; test; sars; cov; tests; testing; day; fda; days',\n",
              " 'and; how; more; sars; are; cov; it; other; health; goats',\n",
              " 'pandemic; during; amid; how; health; will; global; could; has; are',\n",
              " 'quarantine; from; after; during; self; 14; day; travel; travelers; rules',\n",
              " 'new; cases; deaths; reports; county; more; reported; york; record; additional',\n",
              " 'mask; face; wearing; wear; your; mandate; you; not; county; order',\n",
              " 'masks; face; are; wear; wearing; people; from; public; out; best',\n",
              " 'on; impact; july; update; health; june; state; day; who; rise',\n",
              " 'is; how; it; not; this; why; but; says; here; that',\n",
              " 'as; cases; rise; virus; are; surge; us; spreads; 000; states',\n",
              " 'with; sars; patients; cov; people; no; how; help; reopens; are',\n",
              " 'what; you; about; know; can; need; here; we; do; it']"
            ]
          },
          "metadata": {
            "tags": []
          }
        }
      ]
    },
    {
      "cell_type": "markdown",
      "metadata": {
        "id": "hmi8WMxtojvH",
        "colab_type": "text"
      },
      "source": [
        "## Term frequency-Inverse document frequency (tf-idf)\n",
        "\n",
        "In some cases, better document representation comes from tf-idf. There are various schemes of tf-idf. Here, I will explain the simplest one. In practice, we will use the logarithmic scaling explained in [here](https://en.wikipedia.org/wiki/Tf%E2%80%93idf). The overall principle is the same.\n",
        "\n",
        "Term frequency of term $t$ in document $D$:\n",
        "$$\n",
        "\\mathrm{tf}(t,D) = \\text{number of times $t$ appears in $D$} \n",
        "$$\n",
        "\n",
        "Document frequency of each term: \n",
        "$$\\mathrm{df}(t) = \\text{the number of documents $t$ appears in}\n",
        "$$\n",
        "Inverse document frequency:\n",
        "$$\\mathrm{idf}(t) = \\frac{1}{\\mathrm{df}(t)}$$\n",
        "\n",
        "Finally, the tf-idf feature:\n",
        "$$\\text{tf-idf}(t, D) = \\mathrm{tf}(t,D) \\cdot \\mathrm{idf}(t)$$"
      ]
    },
    {
      "cell_type": "code",
      "metadata": {
        "colab_type": "code",
        "id": "S_uxJDKtrMbW",
        "colab": {
          "base_uri": "https://localhost:8080/",
          "height": 357
        },
        "outputId": "d962d2ee-3dd3-4bef-85b9-a01d9ea67cb7"
      },
      "source": [
        "nmf = NMF(n_components=20)\n",
        "tfidf = TfidfVectorizer(stop_words=get_stopword_list(lang='english'))\n",
        "#tfidf = TfidfVectorizer(ngram_range=(1, 2), stop_words=get_stopword_list(lang='english'))\n",
        "topics, docs_by_topic = build_topic_model(news['full_text_no_hyphen'], tfidf, nmf)\n",
        "display(['; '.join(t) for t in topics])"
      ],
      "execution_count": 77,
      "outputs": [
        {
          "output_type": "display_data",
          "data": {
            "text/plain": [
              "['covid; 19; patients; vaccine; risk; report; study; disease; testing; response',\n",
              " 'social; distancing; rules; measures; guidelines; practice; time; summer; isolation; school',\n",
              " 'coronavirus; vaccine; surge; california; trump; report; confirmed; disease; crisis; fight',\n",
              " 'pandemic; global; trump; post; 1918; flu; time; prepare; change; lessons',\n",
              " 'mask; wear; mandate; requirement; city; rules; mandates; requirements; ordinance; statewide',\n",
              " 'quarantine; 14; travel; day; travelers; rules; isolation; list; life; days',\n",
              " 'masks; wear; mandatory; require; required; public; surgical; n95; medical; requiring',\n",
              " 'stay; california; governor; safe; extended; extends; residents; businesses; lifted; stocks',\n",
              " 'sars; cov; vaccine; study; antibody; fda; infection; antibodies; emergency; authorization',\n",
              " 'health; public; mental; officials; care; experts; workers; department; emergency; impact',\n",
              " 'update; 2020; daily; july; roundup; june; april; ama; maine; video',\n",
              " 'deaths; reports; 000; day; reported; additional; record; florida; death; michigan',\n",
              " 'updates; live; june; carolina; north; july; washington; 000; seattle; 2020',\n",
              " 'people; wear; study; quarantined; symptoms; staying; 000; urges; kills; distance',\n",
              " 'wearing; mask; public; protect; prevent; study; skin; tips; doctors; avoid',\n",
              " 'outbreak; china; virus; wuhan; quarantined; global; travel; fears; toll; death',\n",
              " 'news; sports; jobs; july; june; march; april; february; seattle; washington',\n",
              " 'county; dallas; orange; reports; san; residents; mandate; officials; death; businesses',\n",
              " 'spread; study; prevent; slow; virus; cdc; community; asymptomatic; continues; children',\n",
              " 'positive; tests; testing; quarantined; trump; tested; antibody; school; employees; students']"
            ]
          },
          "metadata": {
            "tags": []
          }
        }
      ]
    },
    {
      "cell_type": "markdown",
      "metadata": {
        "id": "pHf9APuau75k",
        "colab_type": "text"
      },
      "source": [
        "## n-grams\n",
        "\n",
        "The phrase \"stay at home policy\" can be represented as:\n",
        "```\n",
        "['stay', 'at', 'home', 'policy'] -> [1, 1, 1, 1]\n",
        "```\n",
        "However, the phrase \"at home stay policy\" is also represented by the same numbers. To encode the importance of ordering, we can look at n-grams.\n",
        "\n",
        "For example, the possible 3-grams for a vocabulary of four words is:\n",
        "```\n",
        "[['stay', 'at', 'home'],\n",
        " ['stay', 'at', 'policy'],\n",
        " ['stay', 'home', 'policy'],...]\n",
        " ```\n",
        "The vocabulary size blows up exponentially, but we can now tell the difference between \"stay at home policy\" and \"at home stay policy\"."
      ]
    },
    {
      "cell_type": "markdown",
      "metadata": {
        "id": "kygfgybJzfgM",
        "colab_type": "text"
      },
      "source": [
        "## $R^2$ score\n",
        "\n",
        "Let's say we have a continuous variable $y$ and an estimate of that variable $\\hat{y}$. For example, $y$ can be the true temperature on a given day and $\\hat{y}$ can be what the news predicts the day before.\n",
        "\n",
        "### How well does $\\hat{y}$ estimate $y$?\n",
        "\n",
        "The $R^2$ score is a measure of *explained variance*. \n",
        "\n",
        "Variance of $y$ is a measure of the spread of $y$ around the mean ($\\bar{y}$):\n",
        "$$\n",
        "\\mathrm{var}(y) = \\frac{1}{N} \\sum_{i=1}^N (y-\\bar{y})^2\n",
        "$$\n",
        "\n",
        "If $\\hat{y}$ is a good estimate of $y$, then $\\hat{y} - y$ is close to zero. In that case, $\\mathrm{var}(y - \\hat{y})$ is also small. But how small is small?\n",
        "\n",
        "We compare $\\mathrm{var}(y - \\hat{y})$ to $\\mathrm{var}(y)$:\n",
        "$$\n",
        "R^2 = 1 - \\frac{\\mathrm{var}(y - \\hat{y})}{\\mathrm{var}(y)}\n",
        "$$\n",
        "Possible situations: \n",
        " - Perfect predictor: $R^2 = 1$\n",
        " - Purely random predictor $R^2 \\rightarrow -\\infty$ \n",
        " - $\\hat{y} = \\bar{y}$: $R^2 = 0$\n"
      ]
    },
    {
      "cell_type": "code",
      "metadata": {
        "id": "BYpH_bYZlqi5",
        "colab_type": "code",
        "colab": {
          "base_uri": "https://localhost:8080/",
          "height": 337
        },
        "outputId": "3fe4c3f0-41a3-4850-f916-54a903fc924e"
      },
      "source": [
        "# predict the date of a headline from its topic representation \n",
        "date = news['date'].values\n",
        "lr = MLPRegressor(\n",
        "        activation='tanh', learning_rate_init=0.01, max_iter=500, learning_rate='adaptive'\n",
        "    ).fit(docs_by_topic, news['date'].values)\n",
        "#lr = LinearRegression().fit(docs_by_topic, date)\n",
        "date_pred = lr.predict(docs_by_topic)\n",
        "print(f'R^2 = {r2_score(date, date_pred):.5f}')\n",
        "plt.hist2d(news['date'].values, date_pred, cmin=0.5)\n",
        "plt.colorbar()\n",
        "plt.show()"
      ],
      "execution_count": 87,
      "outputs": [
        {
          "output_type": "stream",
          "text": [
            "/usr/local/lib/python3.6/dist-packages/sklearn/neural_network/_multilayer_perceptron.py:571: ConvergenceWarning: Stochastic Optimizer: Maximum iterations (500) reached and the optimization hasn't converged yet.\n",
            "  % self.max_iter, ConvergenceWarning)\n"
          ],
          "name": "stderr"
        },
        {
          "output_type": "display_data",
          "data": {
            "application/vnd.google.colaboratory.intrinsic+json": {
              "type": "string"
            },
            "text/plain": [
              "'R^2 = 0.27378'"
            ]
          },
          "metadata": {
            "tags": []
          }
        },
        {
          "output_type": "display_data",
          "data": {
            "image/png": "[encoded data removed]",
            "text/plain": [
              "<Figure size 432x288 with 2 Axes>"
            ]
          },
          "metadata": {
            "tags": [],
            "needs_background": "light"
          }
        }
      ]
    },
    {
      "cell_type": "code",
      "metadata": {
        "id": "-zDtVYiW3GNt",
        "colab_type": "code",
        "colab": {}
      },
      "source": [
        ""
      ],
      "execution_count": null,
      "outputs": []
    }
  ]
}